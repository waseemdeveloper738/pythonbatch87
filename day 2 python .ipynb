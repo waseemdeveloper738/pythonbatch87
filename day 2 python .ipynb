{
 "cells": [
  {
   "cell_type": "code",
   "execution_count": 1,
   "id": "ef3a2511-53a8-4175-8e16-ecb2d1ea092b",
   "metadata": {},
   "outputs": [
    {
     "name": "stdout",
     "output_type": "stream",
     "text": [
      "Hello all welcome to the python fumdamentals\n"
     ]
    }
   ],
   "source": [
    "print(\"Hello all welcome to the python fumdamentals\")\n"
   ]
  },
  {
   "cell_type": "code",
   "execution_count": 3,
   "id": "8fb4051a-fbce-4c48-8fc9-d944c30d67bb",
   "metadata": {},
   "outputs": [],
   "source": [
    "firstname=\"waseem\""
   ]
  },
  {
   "cell_type": "code",
   "execution_count": 5,
   "id": "2daa03fa-8cd2-4006-81ee-cadc2136503b",
   "metadata": {},
   "outputs": [],
   "source": [
    "firstname = \"waseem\""
   ]
  },
  {
   "cell_type": "code",
   "execution_count": 7,
   "id": "1217f105-6215-4b2c-9a40-3c7607ca37da",
   "metadata": {},
   "outputs": [
    {
     "name": "stdout",
     "output_type": "stream",
     "text": [
      "waseem\n"
     ]
    }
   ],
   "source": [
    "firstname = \"waseem\"\n",
    "print(firstname)"
   ]
  },
  {
   "cell_type": "code",
   "execution_count": 9,
   "id": "5a400f6d-29d8-441e-86a8-384eb879a3f2",
   "metadata": {},
   "outputs": [
    {
     "ename": "SyntaxError",
     "evalue": "invalid syntax (3496703770.py, line 1)",
     "output_type": "error",
     "traceback": [
      "\u001b[1;36m  Cell \u001b[1;32mIn[9], line 1\u001b[1;36m\u001b[0m\n\u001b[1;33m    rule no1:there is no space in between variables\u001b[0m\n\u001b[1;37m         ^\u001b[0m\n\u001b[1;31mSyntaxError\u001b[0m\u001b[1;31m:\u001b[0m invalid syntax\n"
     ]
    }
   ],
   "source": [
    "rule no1:there is no space in between variables\n"
   ]
  },
  {
   "cell_type": "code",
   "execution_count": 11,
   "id": "f050a658-eda4-421d-8113-1010c8a78870",
   "metadata": {},
   "outputs": [
    {
     "ename": "SyntaxError",
     "evalue": "invalid decimal literal (2295984244.py, line 2)",
     "output_type": "error",
     "traceback": [
      "\u001b[1;36m  Cell \u001b[1;32mIn[11], line 2\u001b[1;36m\u001b[0m\n\u001b[1;33m    1Name =\"waseem\"\u001b[0m\n\u001b[1;37m    ^\u001b[0m\n\u001b[1;31mSyntaxError\u001b[0m\u001b[1;31m:\u001b[0m invalid decimal literal\n"
     ]
    }
   ],
   "source": [
    "rule no 2 :A variables should not start with a number **\n",
    "1Name =\"waseem\"\n",
    "print (1name)"
   ]
  },
  {
   "cell_type": "code",
   "execution_count": 13,
   "id": "925db86e-eb4c-424f-a520-ad13602a3a76",
   "metadata": {},
   "outputs": [
    {
     "name": "stdout",
     "output_type": "stream",
     "text": [
      "waseem\n"
     ]
    }
   ],
   "source": [
    "name1=\"waseem\"\n",
    "print(name1)"
   ]
  },
  {
   "cell_type": "raw",
   "id": "c81ed05d-54f3-4577-a5c0-f0a6ddc3b721",
   "metadata": {},
   "source": [
    "rule n0 3:a variable should not contain special character \n",
    "%%name=\"naveed\"\n",
    "print(%%name)"
   ]
  },
  {
   "cell_type": "code",
   "execution_count": null,
   "id": "dcb74036-0eba-44dc-af86-7d5b87ffeebd",
   "metadata": {},
   "outputs": [],
   "source": []
  }
 ],
 "metadata": {
  "kernelspec": {
   "display_name": "Python 3 (ipykernel)",
   "language": "python",
   "name": "python3"
  },
  "language_info": {
   "codemirror_mode": {
    "name": "ipython",
    "version": 3
   },
   "file_extension": ".py",
   "mimetype": "text/x-python",
   "name": "python",
   "nbconvert_exporter": "python",
   "pygments_lexer": "ipython3",
   "version": "3.12.4"
  }
 },
 "nbformat": 4,
 "nbformat_minor": 5
}
